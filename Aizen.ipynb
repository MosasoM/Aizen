{
 "cells": [
  {
   "cell_type": "code",
   "execution_count": 218,
   "metadata": {},
   "outputs": [],
   "source": [
    "from text_vectorian import SpBertVectorian\n",
    "import xml.etree.ElementTree as ET\n",
    "import pandas as pd\n",
    "import matplotlib.pyplot as plt\n",
    "import  numpy as np\n",
    "from sklearn.model_selection import train_test_split\n",
    "from keras.layers import Dense,Activation\n",
    "from keras.models import Model\n",
    "from keras import Input\n",
    "import datetime\n",
    "import keras\n",
    "from pyknp import Juman"
   ]
  },
  {
   "cell_type": "markdown",
   "metadata": {},
   "source": [
    "### BERTによるベクトル化のためのインポート\n",
    "https://qiita.com/hideki/items/1ec1c21c33326ad5615f\n",
    "のものをお借りした。"
   ]
  },
  {
   "cell_type": "code",
   "execution_count": 129,
   "metadata": {},
   "outputs": [],
   "source": [
    "vectorizer_filename = f'./bert-wiki-ja/model.ckpt-1400000'\n",
    "tokenizer_filename = f'./bert-wiki-ja/wiki-ja.model'\n",
    "vectorian = SpBertVectorian(\n",
    "    tokenizer_filename=tokenizer_filename,\n",
    "    vectorizer_filename=vectorizer_filename\n",
    ")"
   ]
  },
  {
   "cell_type": "markdown",
   "metadata": {},
   "source": [
    "### 単語難易度辞書を作成。\n",
    "データは\n",
    "https://pj.ninjal.ac.jp/corpus_center/bccwj/freq-list.html\n",
    "のものをお借りした。\n",
    "pathは適当に合わせてください"
   ]
  },
  {
   "cell_type": "code",
   "execution_count": 187,
   "metadata": {},
   "outputs": [],
   "source": [
    "vocab = pd.read_csv(\"./Datas/教科書.txt\",encoding=\"utf8\",sep=\"\\t\")\n",
    "vocab = vocab[[\"語彙素\",\"語彙素読み\",\"初出学年\"]]\n",
    "grade_dif_dic = {\"小_前\":0,\"小_後\":1,\"中\":2,\"高\":3}\n",
    "vocab_diff_dic = {}\n",
    "for line in vocab.values:\n",
    "    if line[0] in vocab_diff_dic and grade_dif_dic[line[2]] < vocab_diff_dic[line[0]]:\n",
    "        vocab_diff_dic[line[0]] = grade_dif_dic[line[2]]\n",
    "    else:\n",
    "        vocab_diff_dic[line[0]] = grade_dif_dic[line[2]]"
   ]
  },
  {
   "cell_type": "code",
   "execution_count": 212,
   "metadata": {},
   "outputs": [],
   "source": [
    "indep = [\"名詞\",\"動詞\",\"形容詞\",\"副詞\"]"
   ]
  },
  {
   "cell_type": "markdown",
   "metadata": {},
   "source": [
    "### modelのロード\n",
    "my_model4.h5が学習済みモデルなので、ひとまずそれを使えば動きます。"
   ]
  },
  {
   "cell_type": "code",
   "execution_count": 217,
   "metadata": {},
   "outputs": [],
   "source": [
    "model = keras.models.load_model(\"./my_model4.h5\", compile=False)"
   ]
  },
  {
   "cell_type": "markdown",
   "metadata": {},
   "source": [
    "### Score計算用関数の準備"
   ]
  },
  {
   "cell_type": "code",
   "execution_count": 260,
   "metadata": {},
   "outputs": [],
   "source": [
    "def texts_to_inputs(text1,text2):\n",
    "    t_l = text1\n",
    "    t_r = text2\n",
    "\n",
    "    t_l = vectorian.fit(t_l).vectors\n",
    "    t_r = vectorian.fit(t_r).vectors\n",
    "\n",
    "    itp = range(t_l.shape[1])\n",
    "    in_x = np.insert(t_r,itp,t_l[:,itp],axis=1).reshape(1,256,768,1)\n",
    "    return in_x\n",
    "\n",
    "def easy_trans_scores(test1,test2,vocab_diff_dic):\n",
    "    test_x = texts_to_inputs(test1,test2)\n",
    "    p = model.predict(test_x)\n",
    "\n",
    "    result = jumanpp.analysis(test2)\n",
    "    d1 = 0\n",
    "    d1_cnt = 0\n",
    "    for mrph in result.mrph_list(): # 各形態素にアクセス\n",
    "        if mrph.hinsi in indep:\n",
    "            if mrph.genkei in vocab_diff_dic:\n",
    "                d1 += vocab_diff_dic[mrph.genkei]\n",
    "                d1_cnt += 1\n",
    "    print(\"含意確率:{:.3g} 難易度合計:{} 自立語数:{} 平均難易度:{}\".format(p[0][1],d1,d1_cnt,d1/d1_cnt))\n",
    "    print(\"total score:{:.5g}\".format(p[0][1]/d1))"
   ]
  },
  {
   "cell_type": "markdown",
   "metadata": {},
   "source": [
    "### 実行例"
   ]
  },
  {
   "cell_type": "code",
   "execution_count": 281,
   "metadata": {},
   "outputs": [
    {
     "name": "stdout",
     "output_type": "stream",
     "text": [
      "含意確率:0.994 難易度合計:0 自立語数:4 平均難易度:0.0\n",
      "total score:inf\n"
     ]
    },
    {
     "name": "stderr",
     "output_type": "stream",
     "text": [
      "/Users/kakeru/PycharmProjects/main_env/lib/python3.7/site-packages/ipykernel_launcher.py:14: RuntimeWarning: divide by zero encountered in true_divide\n",
      "  \n"
     ]
    }
   ],
   "source": [
    "test1 = \"次の会議のために議題を書類に要約しておいてください．\"\n",
    "test2 = \"次の会議のために話し合うことを紙にまとめておいてください．\"\n",
    "easy_trans_scores(test1,test2,vocab_diff_dic)"
   ]
  },
  {
   "cell_type": "code",
   "execution_count": 282,
   "metadata": {},
   "outputs": [
    {
     "name": "stdout",
     "output_type": "stream",
     "text": [
      "含意確率:0.778 難易度合計:9 自立語数:4 平均難易度:2.25\n",
      "total score:0.086415\n"
     ]
    }
   ],
   "source": [
    "test1 = \"次の会議のために議題を書類に要約しておいてください\"\n",
    "test2 = \"次の会議のためにアジェンダをレジュメにサマリーしといてください\"\n",
    "easy_trans_scores(test1,test2,vocab_diff_dic)"
   ]
  },
  {
   "cell_type": "markdown",
   "metadata": {},
   "source": [
    "### 今のスコアリングだとうまく行かない例\n",
    "難易度が0になると含意関係なくinfになる。\n",
    "なんか良いスコアを持ってこなくては。"
   ]
  },
  {
   "cell_type": "code",
   "execution_count": 289,
   "metadata": {},
   "outputs": [
    {
     "name": "stdout",
     "output_type": "stream",
     "text": [
      "含意確率:0.0514 難易度合計:0 自立語数:1 平均難易度:0.0\n",
      "total score:inf\n"
     ]
    },
    {
     "name": "stderr",
     "output_type": "stream",
     "text": [
      "/Users/kakeru/PycharmProjects/main_env/lib/python3.7/site-packages/ipykernel_launcher.py:14: RuntimeWarning: divide by zero encountered in true_divide\n",
      "  \n"
     ]
    }
   ],
   "source": [
    "test1 = \"これはお試し用の文章であって、本実験に利用する文章とは異なります\"\n",
    "test2 = \"これは美味しいりんごです.\"\n",
    "easy_trans_scores(test1,test2,vocab_diff_dic)"
   ]
  },
  {
   "cell_type": "code",
   "execution_count": null,
   "metadata": {},
   "outputs": [],
   "source": []
  }
 ],
 "metadata": {
  "kernelspec": {
   "display_name": "Python 3",
   "language": "python",
   "name": "python3"
  },
  "language_info": {
   "codemirror_mode": {
    "name": "ipython",
    "version": 3
   },
   "file_extension": ".py",
   "mimetype": "text/x-python",
   "name": "python",
   "nbconvert_exporter": "python",
   "pygments_lexer": "ipython3",
   "version": "3.7.5"
  }
 },
 "nbformat": 4,
 "nbformat_minor": 4
}
